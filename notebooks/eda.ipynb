{
 "cells": [
  {
   "cell_type": "markdown",
   "id": "ec6c7a78",
   "metadata": {},
   "source": [
    "# 1. Import Libraries"
   ]
  },
  {
   "cell_type": "code",
   "execution_count": null,
   "id": "4f23a48c",
   "metadata": {},
   "outputs": [
    {
     "ename": "",
     "evalue": "",
     "output_type": "error",
     "traceback": [
      "\u001b[1;31mRunning cells with 'Python 3.12.3' requires the ipykernel package.\n",
      "\u001b[1;31mRun the following command to install 'ipykernel' into the Python environment. \n",
      "\u001b[1;31mCommand: 'c:/Users/msved/AppData/Local/Programs/Python/Python312/python.exe -m pip install ipykernel -U --user --force-reinstall'"
     ]
    }
   ],
   "source": [
    "import pandas as pd                 "
   ]
  },
  {
   "cell_type": "code",
   "execution_count": 82,
   "id": "c02baa57",
   "metadata": {},
   "outputs": [],
   "source": [
    "import numpy as np"
   ]
  },
  {
   "cell_type": "code",
   "execution_count": 19,
   "id": "59513aec",
   "metadata": {},
   "outputs": [
    {
     "ename": "ImportError",
     "evalue": "DLL load failed while importing _c_internal_utils: The specified module could not be found.",
     "output_type": "error",
     "traceback": [
      "\u001b[1;31m---------------------------------------------------------------------------\u001b[0m",
      "\u001b[1;31mImportError\u001b[0m                               Traceback (most recent call last)",
      "Input \u001b[1;32mIn [19]\u001b[0m, in \u001b[0;36m<cell line: 1>\u001b[1;34m()\u001b[0m\n\u001b[1;32m----> 1\u001b[0m \u001b[38;5;28;01mimport\u001b[39;00m \u001b[38;5;21;01mseaborn\u001b[39;00m \u001b[38;5;28;01mas\u001b[39;00m \u001b[38;5;21;01msns\u001b[39;00m\n",
      "File \u001b[1;32m~\\AppData\\Roaming\\Python\\Python310\\site-packages\\seaborn\\__init__.py:2\u001b[0m, in \u001b[0;36m<module>\u001b[1;34m\u001b[0m\n\u001b[0;32m      1\u001b[0m \u001b[38;5;66;03m# Import seaborn objects\u001b[39;00m\n\u001b[1;32m----> 2\u001b[0m \u001b[38;5;28;01mfrom\u001b[39;00m \u001b[38;5;21;01m.\u001b[39;00m\u001b[38;5;21;01mrcmod\u001b[39;00m \u001b[38;5;28;01mimport\u001b[39;00m \u001b[38;5;241m*\u001b[39m  \u001b[38;5;66;03m# noqa: F401,F403\u001b[39;00m\n\u001b[0;32m      3\u001b[0m \u001b[38;5;28;01mfrom\u001b[39;00m \u001b[38;5;21;01m.\u001b[39;00m\u001b[38;5;21;01mutils\u001b[39;00m \u001b[38;5;28;01mimport\u001b[39;00m \u001b[38;5;241m*\u001b[39m  \u001b[38;5;66;03m# noqa: F401,F403\u001b[39;00m\n\u001b[0;32m      4\u001b[0m \u001b[38;5;28;01mfrom\u001b[39;00m \u001b[38;5;21;01m.\u001b[39;00m\u001b[38;5;21;01mpalettes\u001b[39;00m \u001b[38;5;28;01mimport\u001b[39;00m \u001b[38;5;241m*\u001b[39m  \u001b[38;5;66;03m# noqa: F401,F403\u001b[39;00m\n",
      "File \u001b[1;32m~\\AppData\\Roaming\\Python\\Python310\\site-packages\\seaborn\\rcmod.py:3\u001b[0m, in \u001b[0;36m<module>\u001b[1;34m\u001b[0m\n\u001b[0;32m      1\u001b[0m \u001b[38;5;124;03m\"\"\"Control plot style and scaling using the matplotlib rcParams interface.\"\"\"\u001b[39;00m\n\u001b[0;32m      2\u001b[0m \u001b[38;5;28;01mimport\u001b[39;00m \u001b[38;5;21;01mfunctools\u001b[39;00m\n\u001b[1;32m----> 3\u001b[0m \u001b[38;5;28;01mimport\u001b[39;00m \u001b[38;5;21;01mmatplotlib\u001b[39;00m \u001b[38;5;28;01mas\u001b[39;00m \u001b[38;5;21;01mmpl\u001b[39;00m\n\u001b[0;32m      4\u001b[0m \u001b[38;5;28;01mfrom\u001b[39;00m \u001b[38;5;21;01mcycler\u001b[39;00m \u001b[38;5;28;01mimport\u001b[39;00m cycler\n\u001b[0;32m      5\u001b[0m \u001b[38;5;28;01mfrom\u001b[39;00m \u001b[38;5;21;01m.\u001b[39;00m \u001b[38;5;28;01mimport\u001b[39;00m palettes\n",
      "File \u001b[1;32m~\\AppData\\Roaming\\Python\\Python310\\site-packages\\matplotlib\\__init__.py:172\u001b[0m, in \u001b[0;36m<module>\u001b[1;34m\u001b[0m\n\u001b[0;32m    168\u001b[0m \u001b[38;5;28;01mfrom\u001b[39;00m \u001b[38;5;21;01mpackaging\u001b[39;00m\u001b[38;5;21;01m.\u001b[39;00m\u001b[38;5;21;01mversion\u001b[39;00m \u001b[38;5;28;01mimport\u001b[39;00m parse \u001b[38;5;28;01mas\u001b[39;00m parse_version\n\u001b[0;32m    170\u001b[0m \u001b[38;5;66;03m# cbook must import matplotlib only within function\u001b[39;00m\n\u001b[0;32m    171\u001b[0m \u001b[38;5;66;03m# definitions, so it is safe to import from it here.\u001b[39;00m\n\u001b[1;32m--> 172\u001b[0m \u001b[38;5;28;01mfrom\u001b[39;00m \u001b[38;5;21;01m.\u001b[39;00m \u001b[38;5;28;01mimport\u001b[39;00m _api, _version, cbook, _docstring, rcsetup\n\u001b[0;32m    173\u001b[0m \u001b[38;5;28;01mfrom\u001b[39;00m \u001b[38;5;21;01mmatplotlib\u001b[39;00m\u001b[38;5;21;01m.\u001b[39;00m\u001b[38;5;21;01mcbook\u001b[39;00m \u001b[38;5;28;01mimport\u001b[39;00m sanitize_sequence\n\u001b[0;32m    174\u001b[0m \u001b[38;5;28;01mfrom\u001b[39;00m \u001b[38;5;21;01mmatplotlib\u001b[39;00m\u001b[38;5;21;01m.\u001b[39;00m\u001b[38;5;21;01m_api\u001b[39;00m \u001b[38;5;28;01mimport\u001b[39;00m MatplotlibDeprecationWarning\n",
      "File \u001b[1;32m~\\AppData\\Roaming\\Python\\Python310\\site-packages\\matplotlib\\cbook.py:32\u001b[0m, in \u001b[0;36m<module>\u001b[1;34m\u001b[0m\n\u001b[0;32m     29\u001b[0m     \u001b[38;5;28;01mfrom\u001b[39;00m \u001b[38;5;21;01mnumpy\u001b[39;00m \u001b[38;5;28;01mimport\u001b[39;00m VisibleDeprecationWarning\n\u001b[0;32m     31\u001b[0m \u001b[38;5;28;01mimport\u001b[39;00m \u001b[38;5;21;01mmatplotlib\u001b[39;00m\n\u001b[1;32m---> 32\u001b[0m \u001b[38;5;28;01mfrom\u001b[39;00m \u001b[38;5;21;01mmatplotlib\u001b[39;00m \u001b[38;5;28;01mimport\u001b[39;00m _api, _c_internal_utils\n\u001b[0;32m     35\u001b[0m \u001b[38;5;28;01mdef\u001b[39;00m \u001b[38;5;21m_get_running_interactive_framework\u001b[39m():\n\u001b[0;32m     36\u001b[0m     \u001b[38;5;124;03m\"\"\"\u001b[39;00m\n\u001b[0;32m     37\u001b[0m \u001b[38;5;124;03m    Return the interactive framework whose event loop is currently running, if\u001b[39;00m\n\u001b[0;32m     38\u001b[0m \u001b[38;5;124;03m    any, or \"headless\" if no event loop can be started, or None.\u001b[39;00m\n\u001b[1;32m   (...)\u001b[0m\n\u001b[0;32m     44\u001b[0m \u001b[38;5;124;03m        \"macosx\", \"headless\", ``None``.\u001b[39;00m\n\u001b[0;32m     45\u001b[0m \u001b[38;5;124;03m    \"\"\"\u001b[39;00m\n",
      "\u001b[1;31mImportError\u001b[0m: DLL load failed while importing _c_internal_utils: The specified module could not be found."
     ]
    }
   ],
   "source": [
    "import seaborn as sns"
   ]
  },
  {
   "cell_type": "code",
   "execution_count": 20,
   "id": "f6831f30",
   "metadata": {},
   "outputs": [
    {
     "ename": "ImportError",
     "evalue": "DLL load failed while importing _c_internal_utils: The specified module could not be found.",
     "output_type": "error",
     "traceback": [
      "\u001b[1;31m---------------------------------------------------------------------------\u001b[0m",
      "\u001b[1;31mImportError\u001b[0m                               Traceback (most recent call last)",
      "Input \u001b[1;32mIn [20]\u001b[0m, in \u001b[0;36m<cell line: 1>\u001b[1;34m()\u001b[0m\n\u001b[1;32m----> 1\u001b[0m \u001b[38;5;28;01mimport\u001b[39;00m \u001b[38;5;21;01mmatplotlib\u001b[39;00m\u001b[38;5;21;01m.\u001b[39;00m\u001b[38;5;21;01mpyplot\u001b[39;00m \u001b[38;5;28;01mas\u001b[39;00m \u001b[38;5;21;01mplt\u001b[39;00m\n",
      "File \u001b[1;32m~\\AppData\\Roaming\\Python\\Python310\\site-packages\\matplotlib\\__init__.py:172\u001b[0m, in \u001b[0;36m<module>\u001b[1;34m\u001b[0m\n\u001b[0;32m    168\u001b[0m \u001b[38;5;28;01mfrom\u001b[39;00m \u001b[38;5;21;01mpackaging\u001b[39;00m\u001b[38;5;21;01m.\u001b[39;00m\u001b[38;5;21;01mversion\u001b[39;00m \u001b[38;5;28;01mimport\u001b[39;00m parse \u001b[38;5;28;01mas\u001b[39;00m parse_version\n\u001b[0;32m    170\u001b[0m \u001b[38;5;66;03m# cbook must import matplotlib only within function\u001b[39;00m\n\u001b[0;32m    171\u001b[0m \u001b[38;5;66;03m# definitions, so it is safe to import from it here.\u001b[39;00m\n\u001b[1;32m--> 172\u001b[0m \u001b[38;5;28;01mfrom\u001b[39;00m \u001b[38;5;21;01m.\u001b[39;00m \u001b[38;5;28;01mimport\u001b[39;00m _api, _version, cbook, _docstring, rcsetup\n\u001b[0;32m    173\u001b[0m \u001b[38;5;28;01mfrom\u001b[39;00m \u001b[38;5;21;01mmatplotlib\u001b[39;00m\u001b[38;5;21;01m.\u001b[39;00m\u001b[38;5;21;01mcbook\u001b[39;00m \u001b[38;5;28;01mimport\u001b[39;00m sanitize_sequence\n\u001b[0;32m    174\u001b[0m \u001b[38;5;28;01mfrom\u001b[39;00m \u001b[38;5;21;01mmatplotlib\u001b[39;00m\u001b[38;5;21;01m.\u001b[39;00m\u001b[38;5;21;01m_api\u001b[39;00m \u001b[38;5;28;01mimport\u001b[39;00m MatplotlibDeprecationWarning\n",
      "File \u001b[1;32m~\\AppData\\Roaming\\Python\\Python310\\site-packages\\matplotlib\\cbook.py:32\u001b[0m, in \u001b[0;36m<module>\u001b[1;34m\u001b[0m\n\u001b[0;32m     29\u001b[0m     \u001b[38;5;28;01mfrom\u001b[39;00m \u001b[38;5;21;01mnumpy\u001b[39;00m \u001b[38;5;28;01mimport\u001b[39;00m VisibleDeprecationWarning\n\u001b[0;32m     31\u001b[0m \u001b[38;5;28;01mimport\u001b[39;00m \u001b[38;5;21;01mmatplotlib\u001b[39;00m\n\u001b[1;32m---> 32\u001b[0m \u001b[38;5;28;01mfrom\u001b[39;00m \u001b[38;5;21;01mmatplotlib\u001b[39;00m \u001b[38;5;28;01mimport\u001b[39;00m _api, _c_internal_utils\n\u001b[0;32m     35\u001b[0m \u001b[38;5;28;01mdef\u001b[39;00m \u001b[38;5;21m_get_running_interactive_framework\u001b[39m():\n\u001b[0;32m     36\u001b[0m     \u001b[38;5;124;03m\"\"\"\u001b[39;00m\n\u001b[0;32m     37\u001b[0m \u001b[38;5;124;03m    Return the interactive framework whose event loop is currently running, if\u001b[39;00m\n\u001b[0;32m     38\u001b[0m \u001b[38;5;124;03m    any, or \"headless\" if no event loop can be started, or None.\u001b[39;00m\n\u001b[1;32m   (...)\u001b[0m\n\u001b[0;32m     44\u001b[0m \u001b[38;5;124;03m        \"macosx\", \"headless\", ``None``.\u001b[39;00m\n\u001b[0;32m     45\u001b[0m \u001b[38;5;124;03m    \"\"\"\u001b[39;00m\n",
      "\u001b[1;31mImportError\u001b[0m: DLL load failed while importing _c_internal_utils: The specified module could not be found."
     ]
    }
   ],
   "source": [
    "import matplotlib.pyplot as plt\n"
   ]
  },
  {
   "cell_type": "code",
   "execution_count": 83,
   "id": "7d83df5b",
   "metadata": {},
   "outputs": [],
   "source": [
    "from sklearn .ensemble import IsolationForest\n"
   ]
  },
  {
   "cell_type": "code",
   "execution_count": 84,
   "id": "446ef3fb",
   "metadata": {},
   "outputs": [],
   "source": [
    "import eda_helper_functions"
   ]
  },
  {
   "cell_type": "markdown",
   "id": "bc9d2180",
   "metadata": {},
   "source": [
    "# 2. Read the Training Data"
   ]
  },
  {
   "cell_type": "code",
   "execution_count": 85,
   "id": "3bef6fc3",
   "metadata": {},
   "outputs": [
    {
     "data": {
      "text/html": [
       "<div>\n",
       "<style scoped>\n",
       "    .dataframe tbody tr th:only-of-type {\n",
       "        vertical-align: middle;\n",
       "    }\n",
       "\n",
       "    .dataframe tbody tr th {\n",
       "        vertical-align: top;\n",
       "    }\n",
       "\n",
       "    .dataframe thead th {\n",
       "        text-align: right;\n",
       "    }\n",
       "</style>\n",
       "<table border=\"1\" class=\"dataframe\">\n",
       "  <thead>\n",
       "    <tr style=\"text-align: right;\">\n",
       "      <th></th>\n",
       "      <th>date_of_journey</th>\n",
       "      <th>airlines</th>\n",
       "      <th>airlines_code</th>\n",
       "      <th>class</th>\n",
       "      <th>departure</th>\n",
       "      <th>total_stops</th>\n",
       "      <th>arrival</th>\n",
       "      <th>duration_in_minutes</th>\n",
       "      <th>source</th>\n",
       "      <th>destination</th>\n",
       "      <th>price_fare</th>\n",
       "    </tr>\n",
       "  </thead>\n",
       "  <tbody>\n",
       "    <tr>\n",
       "      <th>0</th>\n",
       "      <td>2024-04-01</td>\n",
       "      <td>Vistara</td>\n",
       "      <td>UK-855</td>\n",
       "      <td>Premium Economy</td>\n",
       "      <td>00:26:00</td>\n",
       "      <td>1.0</td>\n",
       "      <td>07:27:00</td>\n",
       "      <td>334.8</td>\n",
       "      <td>Delhi</td>\n",
       "      <td>Cochin</td>\n",
       "      <td>23238</td>\n",
       "    </tr>\n",
       "    <tr>\n",
       "      <th>1</th>\n",
       "      <td>2024-03-26</td>\n",
       "      <td>Air India</td>\n",
       "      <td>AI-443</td>\n",
       "      <td>Economy</td>\n",
       "      <td>12:19:00</td>\n",
       "      <td>1.0</td>\n",
       "      <td>05:17:00</td>\n",
       "      <td>304.8</td>\n",
       "      <td>Kolkata</td>\n",
       "      <td>Banglore</td>\n",
       "      <td>8516</td>\n",
       "    </tr>\n",
       "    <tr>\n",
       "      <th>2</th>\n",
       "      <td>2024-12-09</td>\n",
       "      <td>Air India</td>\n",
       "      <td>AI-815</td>\n",
       "      <td>Business</td>\n",
       "      <td>10:46:00</td>\n",
       "      <td>1.0</td>\n",
       "      <td>18:57:00</td>\n",
       "      <td>355.2</td>\n",
       "      <td>Delhi</td>\n",
       "      <td>Cochin</td>\n",
       "      <td>53164</td>\n",
       "    </tr>\n",
       "    <tr>\n",
       "      <th>3</th>\n",
       "      <td>2024-09-08</td>\n",
       "      <td>Go First</td>\n",
       "      <td>G8-2519</td>\n",
       "      <td>Economy</td>\n",
       "      <td>21:06:00</td>\n",
       "      <td>0.0</td>\n",
       "      <td>13:02:00</td>\n",
       "      <td>850.2</td>\n",
       "      <td>Banglore</td>\n",
       "      <td>Delhi</td>\n",
       "      <td>6873</td>\n",
       "    </tr>\n",
       "    <tr>\n",
       "      <th>4</th>\n",
       "      <td>2024-05-04</td>\n",
       "      <td>Vistara</td>\n",
       "      <td>UK-929</td>\n",
       "      <td>Business</td>\n",
       "      <td>18:15:00</td>\n",
       "      <td>1.0</td>\n",
       "      <td>02:34:00</td>\n",
       "      <td>535.2</td>\n",
       "      <td>Kolkata</td>\n",
       "      <td>Banglore</td>\n",
       "      <td>22297</td>\n",
       "    </tr>\n",
       "    <tr>\n",
       "      <th>...</th>\n",
       "      <td>...</td>\n",
       "      <td>...</td>\n",
       "      <td>...</td>\n",
       "      <td>...</td>\n",
       "      <td>...</td>\n",
       "      <td>...</td>\n",
       "      <td>...</td>\n",
       "      <td>...</td>\n",
       "      <td>...</td>\n",
       "      <td>...</td>\n",
       "      <td>...</td>\n",
       "    </tr>\n",
       "    <tr>\n",
       "      <th>6831</th>\n",
       "      <td>2024-08-05</td>\n",
       "      <td>Vistara</td>\n",
       "      <td>UK-969</td>\n",
       "      <td>Business</td>\n",
       "      <td>00:44:00</td>\n",
       "      <td>0.0</td>\n",
       "      <td>17:15:00</td>\n",
       "      <td>1485.0</td>\n",
       "      <td>Banglore</td>\n",
       "      <td>Delhi</td>\n",
       "      <td>30249</td>\n",
       "    </tr>\n",
       "    <tr>\n",
       "      <th>6832</th>\n",
       "      <td>2024-07-27</td>\n",
       "      <td>Vistara</td>\n",
       "      <td>UK-995</td>\n",
       "      <td>Business</td>\n",
       "      <td>21:39:00</td>\n",
       "      <td>1.0</td>\n",
       "      <td>09:48:00</td>\n",
       "      <td>135.0</td>\n",
       "      <td>Delhi</td>\n",
       "      <td>Cochin</td>\n",
       "      <td>41528</td>\n",
       "    </tr>\n",
       "    <tr>\n",
       "      <th>6833</th>\n",
       "      <td>2024-08-14</td>\n",
       "      <td>Air India</td>\n",
       "      <td>AI-887</td>\n",
       "      <td>Business</td>\n",
       "      <td>09:21:00</td>\n",
       "      <td>0.0</td>\n",
       "      <td>07:38:00</td>\n",
       "      <td>135.0</td>\n",
       "      <td>Banglore</td>\n",
       "      <td>Delhi</td>\n",
       "      <td>25612</td>\n",
       "    </tr>\n",
       "    <tr>\n",
       "      <th>6834</th>\n",
       "      <td>2024-02-21</td>\n",
       "      <td>Indigo</td>\n",
       "      <td>6E-6475</td>\n",
       "      <td>Economy</td>\n",
       "      <td>07:53:00</td>\n",
       "      <td>1.0</td>\n",
       "      <td>17:31:00</td>\n",
       "      <td>589.8</td>\n",
       "      <td>Delhi</td>\n",
       "      <td>Cochin</td>\n",
       "      <td>6672</td>\n",
       "    </tr>\n",
       "    <tr>\n",
       "      <th>6835</th>\n",
       "      <td>2024-10-27</td>\n",
       "      <td>Air India</td>\n",
       "      <td>AI-441</td>\n",
       "      <td>Business</td>\n",
       "      <td>01:36:00</td>\n",
       "      <td>2.0</td>\n",
       "      <td>20:35:00</td>\n",
       "      <td>145.2</td>\n",
       "      <td>Delhi</td>\n",
       "      <td>Cochin</td>\n",
       "      <td>22152</td>\n",
       "    </tr>\n",
       "  </tbody>\n",
       "</table>\n",
       "<p>6836 rows × 11 columns</p>\n",
       "</div>"
      ],
      "text/plain": [
       "     date_of_journey   airlines airlines_code            class departure  \\\n",
       "0         2024-04-01    Vistara        UK-855  Premium Economy  00:26:00   \n",
       "1         2024-03-26  Air India        AI-443          Economy  12:19:00   \n",
       "2         2024-12-09  Air India        AI-815         Business  10:46:00   \n",
       "3         2024-09-08   Go First       G8-2519          Economy  21:06:00   \n",
       "4         2024-05-04    Vistara        UK-929         Business  18:15:00   \n",
       "...              ...        ...           ...              ...       ...   \n",
       "6831      2024-08-05    Vistara        UK-969         Business  00:44:00   \n",
       "6832      2024-07-27    Vistara        UK-995         Business  21:39:00   \n",
       "6833      2024-08-14  Air India        AI-887         Business  09:21:00   \n",
       "6834      2024-02-21     Indigo       6E-6475          Economy  07:53:00   \n",
       "6835      2024-10-27  Air India        AI-441         Business  01:36:00   \n",
       "\n",
       "      total_stops   arrival  duration_in_minutes    source destination  \\\n",
       "0             1.0  07:27:00                334.8     Delhi      Cochin   \n",
       "1             1.0  05:17:00                304.8   Kolkata    Banglore   \n",
       "2             1.0  18:57:00                355.2     Delhi      Cochin   \n",
       "3             0.0  13:02:00                850.2  Banglore       Delhi   \n",
       "4             1.0  02:34:00                535.2   Kolkata    Banglore   \n",
       "...           ...       ...                  ...       ...         ...   \n",
       "6831          0.0  17:15:00               1485.0  Banglore       Delhi   \n",
       "6832          1.0  09:48:00                135.0     Delhi      Cochin   \n",
       "6833          0.0  07:38:00                135.0  Banglore       Delhi   \n",
       "6834          1.0  17:31:00                589.8     Delhi      Cochin   \n",
       "6835          2.0  20:35:00                145.2     Delhi      Cochin   \n",
       "\n",
       "      price_fare  \n",
       "0          23238  \n",
       "1           8516  \n",
       "2          53164  \n",
       "3           6873  \n",
       "4          22297  \n",
       "...          ...  \n",
       "6831       30249  \n",
       "6832       41528  \n",
       "6833       25612  \n",
       "6834        6672  \n",
       "6835       22152  \n",
       "\n",
       "[6836 rows x 11 columns]"
      ]
     },
     "execution_count": 85,
     "metadata": {},
     "output_type": "execute_result"
    }
   ],
   "source": [
    "file_path = r\"C:\\Users\\msved\\OneDrive\\Documents\\Campus X\\FLIGHT PREDICTION USING AWS SAGEMAKER\\data\\train.csv\"\n",
    "train = pd.read_csv(file_path)\n",
    "train"
   ]
  },
  {
   "cell_type": "markdown",
   "id": "cecebc91",
   "metadata": {},
   "source": [
    "## 2.1 Data type Fixing\n"
   ]
  },
  {
   "cell_type": "code",
   "execution_count": null,
   "id": "8b7a3f69",
   "metadata": {},
   "outputs": [],
   "source": [
    "train.dtypes"
   ]
  },
  {
   "cell_type": "code",
   "execution_count": null,
   "id": "9f12c24c",
   "metadata": {},
   "outputs": [],
   "source": [
    "train = train.assign(**{\n",
    "    \n",
    "    col : pd.to_datetime(train.loc[:,col], format=\"mixed\")\n",
    "    for col in ['date_of_journey','departure','arrival']\n",
    "    \n",
    "})"
   ]
  },
  {
   "cell_type": "code",
   "execution_count": null,
   "id": "8bffc94b",
   "metadata": {},
   "outputs": [],
   "source": [
    "train.dtypes"
   ]
  },
  {
   "cell_type": "markdown",
   "id": "864ec912",
   "metadata": {},
   "source": [
    "# 3. Hight level data summary"
   ]
  },
  {
   "cell_type": "code",
   "execution_count": null,
   "id": "0c06eaed",
   "metadata": {},
   "outputs": [],
   "source": [
    "train.info()"
   ]
  },
  {
   "cell_type": "code",
   "execution_count": null,
   "id": "047b297b",
   "metadata": {},
   "outputs": [],
   "source": [
    "train.describe(include=\"number\")"
   ]
  },
  {
   "cell_type": "code",
   "execution_count": null,
   "id": "08e993a0",
   "metadata": {},
   "outputs": [],
   "source": [
    "train.describe(include = \"O\")"
   ]
  },
  {
   "cell_type": "code",
   "execution_count": null,
   "id": "186a9c30",
   "metadata": {},
   "outputs": [],
   "source": [
    "# changing stops data type to object from float \n",
    "(\n",
    "train\n",
    "    .assign(total_stops = train[\"total_stops\"].astype(object))\n",
    "    .describe(include = 'O')\n",
    ")"
   ]
  },
  {
   "cell_type": "code",
   "execution_count": null,
   "id": "ff45e7fe",
   "metadata": {},
   "outputs": [],
   "source": [
    "train['class'].unique()"
   ]
  },
  {
   "cell_type": "markdown",
   "id": "0ae04388",
   "metadata": {},
   "source": [
    "## 3.1 Observation\n",
    "- Vistara is occuring 3164 times as airline in 6836 observations.\n",
    "- UK-819 is the common airline code, occuring 144 times. \n",
    "- Also, chances of delhi as source and coachin as destination is around 25%."
   ]
  },
  {
   "cell_type": "markdown",
   "id": "596af015",
   "metadata": {},
   "source": [
    "# 4. Analysis of outliers\n"
   ]
  },
  {
   "cell_type": "code",
   "execution_count": null,
   "id": "5aa48c59",
   "metadata": {},
   "outputs": [],
   "source": [
    "from sklearn .ensemble import IsolationForest\n"
   ]
  },
  {
   "cell_type": "code",
   "execution_count": null,
   "id": "2f646fb2",
   "metadata": {},
   "outputs": [],
   "source": [
    "forest = IsolationForest(n_estimators = 10 , random_state = 50)"
   ]
  },
  {
   "cell_type": "code",
   "execution_count": null,
   "id": "fbe31b3c",
   "metadata": {},
   "outputs": [],
   "source": [
    "(\n",
    "train\n",
    "    .assign(\n",
    "    outlier  = forest.fit_predict(\n",
    "        train\n",
    "            .drop(columns=\"price_fare\")\n",
    "            .select_dtypes(include=\"number\")\n",
    "                                 )\n",
    "    ).query(\"outlier==-1\")\n",
    ")"
   ]
  },
  {
   "cell_type": "markdown",
   "id": "3aceac8d",
   "metadata": {},
   "source": [
    "# 5. Pair Plot"
   ]
  },
  {
   "cell_type": "code",
   "execution_count": null,
   "id": "619dc2da",
   "metadata": {},
   "outputs": [],
   "source": [
    "eda_helper_functions.pair_plots(train)"
   ]
  },
  {
   "cell_type": "markdown",
   "id": "b55c35e4",
   "metadata": {},
   "source": [
    "# 6. Correlation Analysis"
   ]
  },
  {
   "cell_type": "code",
   "execution_count": null,
   "id": "41042239",
   "metadata": {},
   "outputs": [],
   "source": [
    "eda_helper_functions.correlation_heatmap(train)"
   ]
  },
  {
   "cell_type": "code",
   "execution_count": null,
   "id": "d6110f29",
   "metadata": {},
   "outputs": [],
   "source": [
    "eda_helper_functions.cramersV_heatmap(train)"
   ]
  },
  {
   "cell_type": "markdown",
   "id": "786010f1",
   "metadata": {},
   "source": [
    "# 7. Analysis in detail"
   ]
  },
  {
   "cell_type": "code",
   "execution_count": null,
   "id": "f9adfb7e",
   "metadata": {},
   "outputs": [],
   "source": [
    "train.columns\n"
   ]
  },
  {
   "cell_type": "markdown",
   "id": "2b49a4b8",
   "metadata": {},
   "source": [
    "## 7.1 airline category"
   ]
  },
  {
   "cell_type": "code",
   "execution_count": null,
   "id": "5ff0c65e",
   "metadata": {},
   "outputs": [],
   "source": [
    "train.airlines\n"
   ]
  },
  {
   "cell_type": "code",
   "execution_count": null,
   "id": "5da660a1",
   "metadata": {
    "scrolled": true
   },
   "outputs": [],
   "source": [
    "eda_helper_functions.cat_summary(train,\"airlines\")\n",
    "#  cat_summary means category summary and if we do seperately, then normalize=True will give the numbers in % format."
   ]
  },
  {
   "cell_type": "markdown",
   "id": "43c6c67d",
   "metadata": {},
   "source": [
    "## Univariate Analysis of airline:"
   ]
  },
  {
   "cell_type": "code",
   "execution_count": null,
   "id": "1617f34c",
   "metadata": {},
   "outputs": [],
   "source": [
    "eda_helper_functions.cat_univar_plots(train, \"airlines\",show_wordcloud=False,k=4)\n",
    "# k = 4 means it will select top 4 frequencies and combine rest of the categories into 1"
   ]
  },
  {
   "cell_type": "markdown",
   "id": "423eedbd",
   "metadata": {},
   "source": [
    "## Bi-variate Analysis between airline and price"
   ]
  },
  {
   "cell_type": "code",
   "execution_count": null,
   "id": "1cdcb304",
   "metadata": {},
   "outputs": [],
   "source": [
    "eda_helper_functions.num_cat_bivar_plots(\n",
    "data=train,\n",
    "num_var=\"price_fare\",\n",
    "cat_var=\"airlines\"\n",
    ")"
   ]
  },
  {
   "cell_type": "markdown",
   "id": "1e029f7f",
   "metadata": {},
   "source": [
    "- From the above graph, it is observed that airlines and price fare is correlated and from box plot."
   ]
  },
  {
   "cell_type": "code",
   "execution_count": null,
   "id": "b6b82579",
   "metadata": {},
   "outputs": [],
   "source": [
    "eda_helper_functions.num_cat_hyp_testing(train, \"price_fare\", \"airlines\")\n"
   ]
  },
  {
   "cell_type": "code",
   "execution_count": null,
   "id": "5da62143",
   "metadata": {},
   "outputs": [],
   "source": [
    "airline_grid = sns.FacetGrid(\n",
    "data=train,\n",
    "col=\"destination\",\n",
    "col_wrap=3,\n",
    "height=4,\n",
    "aspect=1.2,\n",
    "sharey=True\n",
    ")\n",
    "\n",
    "airline_grid.map(sns.barplot, \"airlines\", \"price_fare\", order=train.airlines.unique())\n",
    "\n",
    "for ax in airline_grid.axes[3:]:\n",
    "    eda_helper_functions.rotate_xlabels(ax)"
   ]
  },
  {
   "cell_type": "markdown",
   "id": "4b7cd985",
   "metadata": {},
   "source": [
    "## 8.2 date_of_journey"
   ]
  },
  {
   "cell_type": "code",
   "execution_count": null,
   "id": "c2a5a22b",
   "metadata": {},
   "outputs": [],
   "source": [
    "train.date_of_journey\n"
   ]
  },
  {
   "cell_type": "code",
   "execution_count": null,
   "id": "b2b65c3d",
   "metadata": {},
   "outputs": [],
   "source": [
    "eda_helper_functions.dt_univar_plots(\n",
    "data=train,\n",
    "var=\"date_of_journey\",\n",
    "target=\"price_fare\"\n",
    ")"
   ]
  },
  {
   "cell_type": "code",
   "execution_count": null,
   "id": "faa9482a",
   "metadata": {},
   "outputs": [],
   "source": [
    "(\n",
    "    train\n",
    "    .groupby(pd.Grouper(key=\"date_of_journey\", freq=\"M\"))\n",
    "    .price_fare.mean()\n",
    "    .to_frame()\n",
    "    .set_axis([\"March\", \"April\", \"May\", \"June\", \"July\", \"August\", \"September\", \"October\", \"November\", \"December\", \"January\", \"February\"], axis=0)  # Update axis labels with all months\n",
    "    .rename_axis(index=\"Month\")\n",
    "    .plot(\n",
    "        kind=\"bar\",\n",
    "        figsize=(10, 6),\n",
    "        edgecolor=\"black\"\n",
    "    )\n",
    ")\n",
    "\n",
    "ax = plt.gca()\n",
    "eda_helper_functions.rotate_xlabels(ax)\n"
   ]
  },
  {
   "cell_type": "code",
   "execution_count": null,
   "id": "fcf4a659",
   "metadata": {},
   "outputs": [],
   "source": []
  },
  {
   "cell_type": "code",
   "execution_count": null,
   "id": "ca90f074",
   "metadata": {},
   "outputs": [],
   "source": [
    "\n",
    "(\n",
    "\ttrain\n",
    "\t.groupby([pd.Grouper(key=\"date_of_journey\", freq=\"M\"), \"source\"])\n",
    "\t.price_fare.mean()\n",
    "\t.unstack(fill_value=0)\n",
    "\t.set_axis([\"March\", \"April\", \"May\", \"June\", \"July\", \"August\", \"September\", \"October\", \"November\", \"December\", \"January\", \"February\"], axis=0)\n",
    "\t.rename_axis(index=\"Month\")\n",
    "\t.plot(\n",
    "\t\tkind=\"bar\",\n",
    "\t\tfigsize=(12, 4),\n",
    "\t\tedgecolor=\"green\"\n",
    "\t)\n",
    ")\n",
    "\n",
    "ax = plt.gca()\n",
    "\n",
    "ax.legend(\n",
    "\tloc=\"upper left\",\n",
    "\tbbox_to_anchor=(1, 1)\n",
    ")\n",
    "\n",
    "eda_helper_functions.rotate_xlabels(ax)"
   ]
  },
  {
   "cell_type": "markdown",
   "id": "1a5f20f5",
   "metadata": {},
   "source": [
    "## 8.3 Departure"
   ]
  },
  {
   "cell_type": "code",
   "execution_count": null,
   "id": "087e6ea5",
   "metadata": {},
   "outputs": [],
   "source": [
    "train.departure"
   ]
  },
  {
   "cell_type": "code",
   "execution_count": null,
   "id": "8d52dd0a",
   "metadata": {},
   "outputs": [],
   "source": [
    "eda_helper_functions.dt_univar_plots(train, \"departure\", \"price_fare\")\n"
   ]
  },
  {
   "cell_type": "markdown",
   "id": "7aad0b8a",
   "metadata": {},
   "source": [
    "## 8.4 Duration"
   ]
  },
  {
   "cell_type": "code",
   "execution_count": null,
   "id": "8c0e860b",
   "metadata": {},
   "outputs": [],
   "source": [
    "train.duration_in_minutes"
   ]
  },
  {
   "cell_type": "code",
   "execution_count": null,
   "id": "a905570e",
   "metadata": {},
   "outputs": [],
   "source": [
    "eda_helper_functions.num_summary(train, \"duration_in_minutes\")\n"
   ]
  },
  {
   "cell_type": "code",
   "execution_count": null,
   "id": "eba5b718",
   "metadata": {},
   "outputs": [],
   "source": [
    "train.duration_in_minutes.quantile([0.25, 0.5, 0.75])\n"
   ]
  },
  {
   "cell_type": "code",
   "execution_count": null,
   "id": "5deff84a",
   "metadata": {},
   "outputs": [],
   "source": [
    "eda_helper_functions.num_univar_plots(train, \"duration_in_minutes\")\n"
   ]
  },
  {
   "cell_type": "code",
   "execution_count": null,
   "id": "6a39edd7",
   "metadata": {},
   "outputs": [],
   "source": [
    "eda_helper_functions.num_univar_plots(train, \"duration_in_minutes\")"
   ]
  },
  {
   "cell_type": "code",
   "execution_count": null,
   "id": "24050bc7",
   "metadata": {},
   "outputs": [],
   "source": [
    "eda_helper_functions.num_bivar_plots(\n",
    "\ttrain,\n",
    "\t\"duration_in_minutes\",\n",
    "\t\"price_fare\",\n",
    "\thexbin_kwargs=dict(\n",
    "\t\tyscale=\"log\",\n",
    "\t\tgridsize=20,\n",
    "\t\tcmap=\"Blues\"\n",
    "\t)\n",
    ")"
   ]
  },
  {
   "cell_type": "code",
   "execution_count": null,
   "id": "b2b83eb1",
   "metadata": {},
   "outputs": [],
   "source": [
    "eda_helper_functions.num_num_hyp_testing(train, \"price_fare\", \"duration_in_minutes\")\n"
   ]
  },
  {
   "cell_type": "code",
   "execution_count": null,
   "id": "0b94e108",
   "metadata": {},
   "outputs": [],
   "source": [
    "duration_grid = sns.FacetGrid(\n",
    "\tdata=train,\n",
    "\tcol=\"source\",\n",
    "\thue=\"total_stops\",\n",
    "\tsharey=True,\n",
    "    height = 3\n",
    ")\n",
    "\n",
    "duration_grid.map(sns.scatterplot, \"duration_in_minutes\", \"price_fare\")\n",
    "\n",
    "duration_grid.add_legend()"
   ]
  },
  {
   "cell_type": "code",
   "execution_count": null,
   "id": "e31c9085",
   "metadata": {},
   "outputs": [],
   "source": [
    "eda_helper_functions.get_iqr_outliers(train, \"duration_in_minutes\")\n"
   ]
  },
  {
   "cell_type": "markdown",
   "id": "05ecfbda",
   "metadata": {},
   "source": [
    "# 9. Automated EDA"
   ]
  },
  {
   "cell_type": "code",
   "execution_count": 80,
   "id": "10f3d1a4",
   "metadata": {
    "scrolled": true
   },
   "outputs": [
    {
     "name": "stdout",
     "output_type": "stream",
     "text": [
      "Requirement already satisfied: ydata-profiling in c:\\users\\msved\\anaconda3\\envs\\myenv\\lib\\site-packages (4.8.3)\n",
      "Requirement already satisfied: scipy<1.14,>=1.4.1 in c:\\users\\msved\\anaconda3\\envs\\myenv\\lib\\site-packages (from ydata-profiling) (1.13.0)\n",
      "Requirement already satisfied: pandas!=1.4.0,<3,>1.1 in c:\\users\\msved\\anaconda3\\envs\\myenv\\lib\\site-packages (from ydata-profiling) (2.2.1)\n",
      "Requirement already satisfied: matplotlib<3.9,>=3.2 in c:\\users\\msved\\anaconda3\\envs\\myenv\\lib\\site-packages (from ydata-profiling) (3.8.4)\n",
      "Requirement already satisfied: pydantic>=2 in c:\\users\\msved\\anaconda3\\envs\\myenv\\lib\\site-packages (from ydata-profiling) (2.7.1)\n",
      "Requirement already satisfied: PyYAML<6.1,>=5.0.0 in c:\\users\\msved\\anaconda3\\envs\\myenv\\lib\\site-packages (from ydata-profiling) (6.0.1)\n",
      "Requirement already satisfied: jinja2<3.2,>=2.11.1 in c:\\users\\msved\\anaconda3\\envs\\myenv\\lib\\site-packages (from ydata-profiling) (3.1.4)\n",
      "Requirement already satisfied: visions<0.7.7,>=0.7.5 in c:\\users\\msved\\anaconda3\\envs\\myenv\\lib\\site-packages (from visions[type_image_path]<0.7.7,>=0.7.5->ydata-profiling) (0.7.6)\n",
      "Requirement already satisfied: numpy<2,>=1.16.0 in c:\\users\\msved\\anaconda3\\envs\\myenv\\lib\\site-packages (from ydata-profiling) (1.26.4)\n",
      "Requirement already satisfied: htmlmin==0.1.12 in c:\\users\\msved\\anaconda3\\envs\\myenv\\lib\\site-packages (from ydata-profiling) (0.1.12)\n",
      "Requirement already satisfied: phik<0.13,>=0.11.1 in c:\\users\\msved\\anaconda3\\envs\\myenv\\lib\\site-packages (from ydata-profiling) (0.12.4)\n",
      "Requirement already satisfied: requests<3,>=2.24.0 in c:\\users\\msved\\anaconda3\\envs\\myenv\\lib\\site-packages (from ydata-profiling) (2.32.2)\n",
      "Requirement already satisfied: tqdm<5,>=4.48.2 in c:\\users\\msved\\anaconda3\\envs\\myenv\\lib\\site-packages (from ydata-profiling) (4.66.4)\n",
      "Requirement already satisfied: seaborn<0.14,>=0.10.1 in c:\\users\\msved\\anaconda3\\envs\\myenv\\lib\\site-packages (from ydata-profiling) (0.12.2)\n",
      "Requirement already satisfied: multimethod<2,>=1.4 in c:\\users\\msved\\anaconda3\\envs\\myenv\\lib\\site-packages (from ydata-profiling) (1.11.2)\n",
      "Requirement already satisfied: statsmodels<1,>=0.13.2 in c:\\users\\msved\\anaconda3\\envs\\myenv\\lib\\site-packages (from ydata-profiling) (0.14.2)\n",
      "Requirement already satisfied: typeguard<5,>=3 in c:\\users\\msved\\anaconda3\\envs\\myenv\\lib\\site-packages (from ydata-profiling) (4.2.1)\n",
      "Requirement already satisfied: imagehash==4.3.1 in c:\\users\\msved\\anaconda3\\envs\\myenv\\lib\\site-packages (from ydata-profiling) (4.3.1)\n",
      "Requirement already satisfied: wordcloud>=1.9.1 in c:\\users\\msved\\anaconda3\\envs\\myenv\\lib\\site-packages (from ydata-profiling) (1.9.3)\n",
      "Requirement already satisfied: dacite>=1.8 in c:\\users\\msved\\anaconda3\\envs\\myenv\\lib\\site-packages (from ydata-profiling) (1.8.1)\n",
      "Requirement already satisfied: numba<1,>=0.56.0 in c:\\users\\msved\\anaconda3\\envs\\myenv\\lib\\site-packages (from ydata-profiling) (0.59.1)\n",
      "Requirement already satisfied: PyWavelets in c:\\users\\msved\\anaconda3\\envs\\myenv\\lib\\site-packages (from imagehash==4.3.1->ydata-profiling) (1.6.0)\n",
      "Requirement already satisfied: pillow in c:\\users\\msved\\anaconda3\\envs\\myenv\\lib\\site-packages (from imagehash==4.3.1->ydata-profiling) (10.3.0)\n",
      "Requirement already satisfied: MarkupSafe>=2.0 in c:\\users\\msved\\anaconda3\\envs\\myenv\\lib\\site-packages (from jinja2<3.2,>=2.11.1->ydata-profiling) (2.1.5)\n",
      "Requirement already satisfied: contourpy>=1.0.1 in c:\\users\\msved\\anaconda3\\envs\\myenv\\lib\\site-packages (from matplotlib<3.9,>=3.2->ydata-profiling) (1.2.0)\n",
      "Requirement already satisfied: cycler>=0.10 in c:\\users\\msved\\anaconda3\\envs\\myenv\\lib\\site-packages (from matplotlib<3.9,>=3.2->ydata-profiling) (0.11.0)\n",
      "Requirement already satisfied: fonttools>=4.22.0 in c:\\users\\msved\\anaconda3\\envs\\myenv\\lib\\site-packages (from matplotlib<3.9,>=3.2->ydata-profiling) (4.51.0)\n",
      "Requirement already satisfied: kiwisolver>=1.3.1 in c:\\users\\msved\\anaconda3\\envs\\myenv\\lib\\site-packages (from matplotlib<3.9,>=3.2->ydata-profiling) (1.4.4)\n",
      "Requirement already satisfied: packaging>=20.0 in c:\\users\\msved\\anaconda3\\envs\\myenv\\lib\\site-packages (from matplotlib<3.9,>=3.2->ydata-profiling) (23.2)\n",
      "Requirement already satisfied: pyparsing>=2.3.1 in c:\\users\\msved\\anaconda3\\envs\\myenv\\lib\\site-packages (from matplotlib<3.9,>=3.2->ydata-profiling) (3.0.9)\n",
      "Requirement already satisfied: python-dateutil>=2.7 in c:\\users\\msved\\anaconda3\\envs\\myenv\\lib\\site-packages (from matplotlib<3.9,>=3.2->ydata-profiling) (2.9.0.post0)\n",
      "Requirement already satisfied: importlib-resources>=3.2.0 in c:\\users\\msved\\anaconda3\\envs\\myenv\\lib\\site-packages (from matplotlib<3.9,>=3.2->ydata-profiling) (6.1.1)\n",
      "Requirement already satisfied: llvmlite<0.43,>=0.42.0dev0 in c:\\users\\msved\\anaconda3\\envs\\myenv\\lib\\site-packages (from numba<1,>=0.56.0->ydata-profiling) (0.42.0)\n",
      "Requirement already satisfied: pytz>=2020.1 in c:\\users\\msved\\anaconda3\\envs\\myenv\\lib\\site-packages (from pandas!=1.4.0,<3,>1.1->ydata-profiling) (2024.1)\n",
      "Requirement already satisfied: tzdata>=2022.7 in c:\\users\\msved\\anaconda3\\envs\\myenv\\lib\\site-packages (from pandas!=1.4.0,<3,>1.1->ydata-profiling) (2023.3)\n",
      "Requirement already satisfied: joblib>=0.14.1 in c:\\users\\msved\\anaconda3\\envs\\myenv\\lib\\site-packages (from phik<0.13,>=0.11.1->ydata-profiling) (1.4.0)\n",
      "Requirement already satisfied: annotated-types>=0.4.0 in c:\\users\\msved\\anaconda3\\envs\\myenv\\lib\\site-packages (from pydantic>=2->ydata-profiling) (0.7.0)\n",
      "Requirement already satisfied: pydantic-core==2.18.2 in c:\\users\\msved\\anaconda3\\envs\\myenv\\lib\\site-packages (from pydantic>=2->ydata-profiling) (2.18.2)\n",
      "Requirement already satisfied: typing-extensions>=4.6.1 in c:\\users\\msved\\anaconda3\\envs\\myenv\\lib\\site-packages (from pydantic>=2->ydata-profiling) (4.11.0)\n",
      "Requirement already satisfied: charset-normalizer<4,>=2 in c:\\users\\msved\\anaconda3\\envs\\myenv\\lib\\site-packages (from requests<3,>=2.24.0->ydata-profiling) (3.3.2)\n",
      "Requirement already satisfied: idna<4,>=2.5 in c:\\users\\msved\\anaconda3\\envs\\myenv\\lib\\site-packages (from requests<3,>=2.24.0->ydata-profiling) (3.7)\n",
      "Requirement already satisfied: urllib3<3,>=1.21.1 in c:\\users\\msved\\anaconda3\\envs\\myenv\\lib\\site-packages (from requests<3,>=2.24.0->ydata-profiling) (2.2.1)\n",
      "Requirement already satisfied: certifi>=2017.4.17 in c:\\users\\msved\\anaconda3\\envs\\myenv\\lib\\site-packages (from requests<3,>=2.24.0->ydata-profiling) (2024.2.2)\n",
      "Requirement already satisfied: patsy>=0.5.6 in c:\\users\\msved\\anaconda3\\envs\\myenv\\lib\\site-packages (from statsmodels<1,>=0.13.2->ydata-profiling) (0.5.6)\n",
      "Requirement already satisfied: colorama in c:\\users\\msved\\anaconda3\\envs\\myenv\\lib\\site-packages (from tqdm<5,>=4.48.2->ydata-profiling) (0.4.6)\n",
      "Requirement already satisfied: importlib-metadata>=3.6 in c:\\users\\msved\\anaconda3\\envs\\myenv\\lib\\site-packages (from typeguard<5,>=3->ydata-profiling) (7.1.0)\n",
      "Requirement already satisfied: attrs>=19.3.0 in c:\\users\\msved\\anaconda3\\envs\\myenv\\lib\\site-packages (from visions<0.7.7,>=0.7.5->visions[type_image_path]<0.7.7,>=0.7.5->ydata-profiling) (23.2.0)\n",
      "Requirement already satisfied: networkx>=2.4 in c:\\users\\msved\\anaconda3\\envs\\myenv\\lib\\site-packages (from visions<0.7.7,>=0.7.5->visions[type_image_path]<0.7.7,>=0.7.5->ydata-profiling) (3.2.1)\n",
      "Requirement already satisfied: zipp>=0.5 in c:\\users\\msved\\anaconda3\\envs\\myenv\\lib\\site-packages (from importlib-metadata>=3.6->typeguard<5,>=3->ydata-profiling) (3.17.0)\n",
      "Requirement already satisfied: six in c:\\users\\msved\\anaconda3\\envs\\myenv\\lib\\site-packages (from patsy>=0.5.6->statsmodels<1,>=0.13.2->ydata-profiling) (1.16.0)\n",
      "Note: you may need to restart the kernel to use updated packages.\n"
     ]
    },
    {
     "name": "stderr",
     "output_type": "stream",
     "text": [
      "WARNING: visions 0.7.6 does not provide the extra 'type-image-path'\n",
      "Summarize dataset: 100%|██████████| 24/24 [00:08<00:00,  2.75it/s, Completed]                                       \n",
      "Generate report structure: 100%|██████████| 1/1 [00:22<00:00, 22.53s/it]\n",
      "Render HTML: 100%|██████████| 1/1 [00:03<00:00,  3.75s/it]\n",
      "Export report to file: 100%|██████████| 1/1 [00:00<00:00, 79.69it/s]\n"
     ]
    }
   ],
   "source": [
    "%pip install ydata-profiling --user\n",
    "\n",
    "from ydata_profiling import ProfileReport\n",
    "report = ProfileReport(train)\n",
    "report.to_file(output_file=\"output.html\")"
   ]
  },
  {
   "cell_type": "code",
   "execution_count": null,
   "id": "424cb2e1",
   "metadata": {},
   "outputs": [],
   "source": []
  }
 ],
 "metadata": {
  "kernelspec": {
   "display_name": "Python 3 (ipykernel)",
   "language": "python",
   "name": "python3"
  },
  "language_info": {
   "codemirror_mode": {
    "name": "ipython",
    "version": 3
   },
   "file_extension": ".py",
   "mimetype": "text/x-python",
   "name": "python",
   "nbconvert_exporter": "python",
   "pygments_lexer": "ipython3",
   "version": "3.12.3"
  }
 },
 "nbformat": 4,
 "nbformat_minor": 5
}
